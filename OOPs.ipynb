{
  "nbformat": 4,
  "nbformat_minor": 0,
  "metadata": {
    "colab": {
      "provenance": []
    },
    "kernelspec": {
      "name": "python3",
      "display_name": "Python 3"
    },
    "language_info": {
      "name": "python"
    }
  },
  "cells": [
    {
      "cell_type": "markdown",
      "source": [
        "#OOPs"
      ],
      "metadata": {
        "id": "xFS00TboJ6Jq"
      }
    },
    {
      "cell_type": "markdown",
      "source": [
        "1. What is Object-Oriented Programming (OOP)?\n",
        "   - Object-Oriented Programming (OOP) is a programming paradigm based on the concept of objects, which can contain data (attributes or properties) and methods (functions or behaviors). OOP helps structure programs in a way that makes them more modular, reusable, and easier to maintain.\n",
        "\n",
        "   Example:"
      ],
      "metadata": {
        "id": "TfdZEhtiKdGR"
      }
    },
    {
      "cell_type": "code",
      "source": [
        "# Defining a class\n",
        "class Animal:\n",
        "    def __init__(self, name):\n",
        "        self.name = name  # Attribute\n",
        "\n",
        "    def speak(self):\n",
        "        return \"Some sound\"\n",
        "\n",
        "# Inheriting from Animal class\n",
        "class Dog(Animal):\n",
        "    def speak(self):\n",
        "        return \"Bark\"\n",
        "\n",
        "# Creating objects\n",
        "dog = Dog(\"Buddy\")\n",
        "print(dog.name)   # Output: Buddy\n",
        "print(dog.speak()) # Output: Bark\n"
      ],
      "metadata": {
        "id": "XegEr3g6KxvA"
      },
      "execution_count": null,
      "outputs": []
    },
    {
      "cell_type": "markdown",
      "source": [
        "2. What is a class in OOP ?\n",
        "   - A class in OOP is a blueprint for creating objects. It defines attributes (data) and methods (functions) that describe the behavior of the objects.\n",
        "\n",
        "   Example:"
      ],
      "metadata": {
        "id": "hrN7nS-mK11e"
      }
    },
    {
      "cell_type": "code",
      "source": [
        "class Car:\n",
        "    def __init__(self, brand, model):\n",
        "        self.brand = brand  # Attribute\n",
        "        self.model = model  # Attribute\n",
        "\n",
        "    def display_info(self):\n",
        "        return f\"{self.brand} {self.model}\"\n",
        "\n",
        "# Creating an object (instance of the class)\n",
        "car1 = Car(\"Toyota\", \"Corolla\")\n",
        "print(car1.display_info())  # Output: Toyota Corolla\n"
      ],
      "metadata": {
        "id": "7cE2ZjU5LHZ0"
      },
      "execution_count": null,
      "outputs": []
    },
    {
      "cell_type": "markdown",
      "source": [
        "3. What is an object in OOP ?\n",
        "   -  An object in OOP is an instance of a class. It has its own attributes (data) and can use the methods (functions) defined in the class.\n",
        "\n",
        "   Example :\n"
      ],
      "metadata": {
        "id": "_mKQBW67LsZY"
      }
    },
    {
      "cell_type": "code",
      "source": [
        "class Car:\n",
        "    def __init__(self, brand, model):\n",
        "        self.brand = brand\n",
        "        self.model = model\n",
        "\n",
        "# Creating objects (instances of the class)\n",
        "car1 = Car(\"Toyota\", \"Corolla\")\n",
        "car2 = Car(\"Honda\", \"Civic\")\n",
        "\n",
        "print(car1.brand)  # Output: Toyota\n",
        "print(car2.model)  # Output: Civic\n"
      ],
      "metadata": {
        "id": "-cT4SKGsMpwr"
      },
      "execution_count": null,
      "outputs": []
    },
    {
      "cell_type": "markdown",
      "source": [
        "4. What is the difference between abstraction and encapsulation ?\n",
        "   -  ### **Difference Between Abstraction and Encapsulation**  \n",
        "\n",
        "| Feature          | **Abstraction** | **Encapsulation** |\n",
        "|-----------------|---------------|----------------|\n",
        "| **Definition**  | Hides implementation details and shows only essential features. | Restricts direct access to data by wrapping it inside a class. |\n",
        "| **Purpose**     | Focuses on **what** an object does, not **how** it does it. | Protects data from unintended modifications. |\n",
        "| **Implementation** | Achieved using **abstract classes** and **interfaces**. | Achieved using **private/protected attributes** and **getter/setter methods**. |\n",
        "| **Example**     | Hiding complex implementation details from users. | Preventing direct modification of sensitive data. |\n",
        "\n",
        "Example :\n",
        "\n",
        "##Abstraction\n"
      ],
      "metadata": {
        "id": "2mRN-JPZMu6w"
      }
    },
    {
      "cell_type": "code",
      "source": [
        "from abc import ABC, abstractmethod\n",
        "\n",
        "class Vehicle(ABC):  # Abstract class\n",
        "    @abstractmethod\n",
        "    def start(self):\n",
        "        pass\n",
        "\n",
        "class Car(Vehicle):\n",
        "    def start(self):\n",
        "        return \"Car started\"\n",
        "\n",
        "car = Car()\n",
        "print(car.start())  # Output: Car started\n"
      ],
      "metadata": {
        "id": "NEmpnMQZNX1r"
      },
      "execution_count": null,
      "outputs": []
    },
    {
      "cell_type": "markdown",
      "source": [
        "Example :\n",
        "##Encapsulation"
      ],
      "metadata": {
        "id": "Nf3Kf5-HNb7X"
      }
    },
    {
      "cell_type": "code",
      "source": [
        "class BankAccount:\n",
        "    def __init__(self, balance):\n",
        "        self.__balance = balance  # Private attribute\n",
        "\n",
        "    def get_balance(self):\n",
        "        return self.__balance  # Getter method\n",
        "\n",
        "account = BankAccount(1000)\n",
        "print(account.get_balance())  # Output: 1000\n"
      ],
      "metadata": {
        "id": "XiFuPA6WNnTJ"
      },
      "execution_count": null,
      "outputs": []
    },
    {
      "cell_type": "markdown",
      "source": [
        "5.  What are dunder methods in Python ?\n",
        "   -  Dunder (Double Underscore) Methods in Python, also known as magic methods, are special methods with names that start and end with double underscores (e.g., __init__, __str__). They enable built-in behavior customization for objects.\n",
        "\n",
        "   Example :  "
      ],
      "metadata": {
        "id": "BopSYuyHNsLA"
      }
    },
    {
      "cell_type": "code",
      "source": [
        "class Person:\n",
        "    def __init__(self, name):\n",
        "        self.name = name  # Constructor\n",
        "\n",
        "    def __str__(self):\n",
        "        return f\"Person: {self.name}\"  # String representation\n",
        "\n",
        "person = Person(\"Alice\")\n",
        "print(person)  # Output: Person: Alice\n"
      ],
      "metadata": {
        "id": "dGySnDsqOWv4"
      },
      "execution_count": null,
      "outputs": []
    },
    {
      "cell_type": "markdown",
      "source": [
        "6.  Explain the concept of inheritance in OOP .\n",
        "   -  Inheritance is a concept in OOP where a child class (subclass) inherits properties and methods from a parent class (superclass). This allows code reuse and helps in building hierarchical relationships.\n",
        "\n",
        "   Example:\n",
        "\n",
        "   Single Inheritance\n"
      ],
      "metadata": {
        "id": "RMXUyiUvOa1S"
      }
    },
    {
      "cell_type": "code",
      "source": [
        "class Animal:  # Parent class\n",
        "    def speak(self):\n",
        "        return \"Animal speaks\"\n",
        "\n",
        "class Dog(Animal):  # Child class inheriting from Animal\n",
        "    def speak(self):\n",
        "        return \"Bark\"\n",
        "\n",
        "dog = Dog()\n",
        "print(dog.speak())  # Output: Bark\n"
      ],
      "metadata": {
        "id": "AXkjkm5rPAa5"
      },
      "execution_count": null,
      "outputs": []
    },
    {
      "cell_type": "markdown",
      "source": [
        "7. What is polymorphism in OOP ?\n",
        "   -  Polymorphism allows different classes to have methods with the same name but different implementations. It enables flexibility and code reusability.\n",
        "\n",
        "   Example :\n",
        "\n",
        "   Method Overriding"
      ],
      "metadata": {
        "id": "5Lz7zX4nPH_r"
      }
    },
    {
      "cell_type": "code",
      "source": [
        "class Animal:\n",
        "    def speak(self):\n",
        "        return \"Animal speaks\"\n",
        "\n",
        "class Dog(Animal):\n",
        "    def speak(self):  # Overriding the parent method\n",
        "        return \"Bark\"\n",
        "\n",
        "class Cat(Animal):\n",
        "    def speak(self):\n",
        "        return \"Meow\"\n",
        "\n",
        "# Polymorphism in action\n",
        "animals = [Dog(), Cat()]\n",
        "for animal in animals:\n",
        "    print(animal.speak())\n",
        "# Output:\n",
        "# Bark\n",
        "# Meow\n"
      ],
      "metadata": {
        "id": "dYbJjHS0PcYh"
      },
      "execution_count": null,
      "outputs": []
    },
    {
      "cell_type": "markdown",
      "source": [
        "8. How is encapsulation achieved in Python ?\n",
        "   -  Encapsulation is achieved by restricting direct access to an object's data and allowing controlled access through methods.\n",
        "\n",
        "   Example :"
      ],
      "metadata": {
        "id": "0jiZAWr1Pr5V"
      }
    },
    {
      "cell_type": "code",
      "source": [
        "class BankAccount:\n",
        "    def __init__(self, balance):\n",
        "        self.__balance = balance  # Private attribute\n",
        "\n",
        "    def deposit(self, amount):\n",
        "        self.__balance += amount\n",
        "\n",
        "    def get_balance(self):  # Getter method\n",
        "        return self.__balance\n",
        "\n",
        "account = BankAccount(1000)\n",
        "account.deposit(500)\n",
        "print(account.get_balance())  # Output: 1500\n"
      ],
      "metadata": {
        "id": "JQ7twLYkP_Xd"
      },
      "execution_count": null,
      "outputs": []
    },
    {
      "cell_type": "markdown",
      "source": [
        "9. What is a constructor in Python ?\n",
        "   -  A constructor is a special method (__init__()) that is automatically called when an object is created. It is used to initialize attributes of the class.\n",
        "\n",
        "   Example :"
      ],
      "metadata": {
        "id": "fJDnWsSoQB2d"
      }
    },
    {
      "cell_type": "code",
      "source": [
        "class Car:\n",
        "    def __init__(self, brand, model):  # Constructor\n",
        "        self.brand = brand\n",
        "        self.model = model\n",
        "\n",
        "car1 = Car(\"Toyota\", \"Corolla\")  # Constructor is called automatically\n",
        "print(car1.brand, car1.model)  # Output: Toyota Corolla\n"
      ],
      "metadata": {
        "id": "pTMD0Us4QQpT"
      },
      "execution_count": null,
      "outputs": []
    },
    {
      "cell_type": "markdown",
      "source": [
        "10. What are class and static methods in Python ?\n",
        "    -  1. Class Method (@classmethod)\n",
        "     - Works with the class rather than an instance.\n",
        "     - Takes cls as the first parameter.\n",
        "     - Can modify class-level attributes.\n",
        "     Example :"
      ],
      "metadata": {
        "id": "dDaSknUMQVT_"
      }
    },
    {
      "cell_type": "code",
      "source": [
        "class Car:\n",
        "    wheels = 4  # Class attribute\n",
        "\n",
        "    @classmethod\n",
        "    def change_wheels(cls, new_wheels):\n",
        "        cls.wheels = new_wheels\n",
        "\n",
        "Car.change_wheels(6)\n",
        "print(Car.wheels)  # Output: 6\n"
      ],
      "metadata": {
        "id": "wIqpDzH1Q_Tl"
      },
      "execution_count": null,
      "outputs": []
    },
    {
      "cell_type": "markdown",
      "source": [
        "2. Static Method (@staticmethod)\n",
        "- Doesn't access class (cls) or instance (self) attributes.\n",
        "- Used for utility functions related to the class.\n",
        "\n",
        "Example:"
      ],
      "metadata": {
        "id": "XyA9d20pRCo_"
      }
    },
    {
      "cell_type": "code",
      "source": [
        "class Math:\n",
        "    @staticmethod\n",
        "    def add(x, y):\n",
        "        return x + y\n",
        "\n",
        "print(Math.add(5, 3))  # Output: 8\n"
      ],
      "metadata": {
        "id": "w0r_NhpRRQOu"
      },
      "execution_count": null,
      "outputs": []
    },
    {
      "cell_type": "markdown",
      "source": [
        "11. What is method overloading in Python ?\n",
        "    -  Method overloading allows multiple methods with the same name but different parameters.\n",
        "\n",
        "    -  Python does not support true method overloading (like Java or C++), but it can be simulated using default arguments or the @dispatch decorator from multipledispatch.\n",
        "\n",
        "    Example 1:\n",
        "    \n",
        "    Using Default Arguments"
      ],
      "metadata": {
        "id": "K4Wh9TGsRUmS"
      }
    },
    {
      "cell_type": "code",
      "source": [
        "class Math:\n",
        "    def add(self, a, b, c=0):  # Overloading using default value\n",
        "        return a + b + c\n",
        "\n",
        "m = Math()\n",
        "print(m.add(2, 3))     # Output: 5\n",
        "print(m.add(2, 3, 4))  # Output: 9\n"
      ],
      "metadata": {
        "id": "XPCe4kWyR0iO"
      },
      "execution_count": null,
      "outputs": []
    },
    {
      "cell_type": "markdown",
      "source": [
        "Example 2:\n",
        "\n",
        " Using @dispatch (Needs multipledispatch library)"
      ],
      "metadata": {
        "id": "SL4BX30gR3KQ"
      }
    },
    {
      "cell_type": "code",
      "source": [
        "from multipledispatch import dispatch\n",
        "\n",
        "class Math:\n",
        "    @dispatch(int, int)\n",
        "    def add(a, b):\n",
        "        return a + b\n",
        "\n",
        "    @dispatch(int, int, int)\n",
        "    def add(a, b, c):\n",
        "        return a + b + c\n",
        "\n",
        "print(Math.add(2, 3))     # Output: 5\n",
        "print(Math.add(2, 3, 4))  # Output: 9\n"
      ],
      "metadata": {
        "id": "6FDPlGarR9TT"
      },
      "execution_count": null,
      "outputs": []
    },
    {
      "cell_type": "markdown",
      "source": [
        "12. What is method overriding in OOP ?\n",
        "   -  Method overriding allows a child class to provide a different implementation of a method that is already defined in its parent class.\n",
        "\n",
        "   -  The method in the child class must have the same name and parameters as the one in the parent class.\n",
        "\n",
        "   Example:"
      ],
      "metadata": {
        "id": "yUr3E8PESBnb"
      }
    },
    {
      "cell_type": "code",
      "source": [
        "class Animal:\n",
        "    def speak(self):\n",
        "        return \"Animal makes a sound\"\n",
        "\n",
        "class Dog(Animal):\n",
        "    def speak(self):  # Overriding the parent method\n",
        "        return \"Bark\"\n",
        "\n",
        "dog = Dog()\n",
        "print(dog.speak())  # Output: Bark\n"
      ],
      "metadata": {
        "id": "5f6Qu-sfSYSW"
      },
      "execution_count": null,
      "outputs": []
    },
    {
      "cell_type": "markdown",
      "source": [
        "13. What is a property decorator in Python ?\n",
        "    -  The @property decorator is used to define a getter method in a class, allowing an attribute to be accessed like a property (without parentheses).\n",
        "\n",
        "    -  It is mainly used for encapsulation, controlling attribute access while keeping a clean syntax.\n",
        "\n",
        "    Example :\n",
        "    "
      ],
      "metadata": {
        "id": "hOQoCW0eSd4K"
      }
    },
    {
      "cell_type": "code",
      "source": [
        "class Person:\n",
        "    def __init__(self, name):\n",
        "        self._name = name  # Protected attribute\n",
        "\n",
        "    @property\n",
        "    def name(self):  # Getter method\n",
        "        return self._name\n",
        "\n",
        "person = Person(\"Alice\")\n",
        "print(person.name)  # Output: Alice (Accessed like an attribute)\n"
      ],
      "metadata": {
        "id": "0Enl_rQdS40u"
      },
      "execution_count": null,
      "outputs": []
    },
    {
      "cell_type": "markdown",
      "source": [
        "14. Why is polymorphism important in OOP ?\n",
        "    -  Polymorphism allows the same method or operator to behave differently based on the object that calls it.\n",
        "\n",
        " ## Why is it important?\n",
        "\n",
        "  1. Increases code flexibility – Same method name works for different classes.\n",
        "  2. Enhances code reusability – Avoids rewriting methods for similar behaviors.\n",
        "  3. Supports scalability – New classes can implement their own versions of methods without modifying existing code.\n",
        "  4. Enables dynamic method binding – Methods are called based on the actual object type at runtime.\n",
        "\n",
        "  Example:\n",
        "  \n",
        "  Polymorphism with Method Overriding\n"
      ],
      "metadata": {
        "id": "-mKaczu2S7bk"
      }
    },
    {
      "cell_type": "code",
      "source": [
        "class Animal:\n",
        "    def speak(self):\n",
        "        return \"Animal makes a sound\"\n",
        "\n",
        "class Dog(Animal):\n",
        "    def speak(self):\n",
        "        return \"Bark\"\n",
        "\n",
        "class Cat(Animal):\n",
        "    def speak(self):\n",
        "        return \"Meow\"\n",
        "\n",
        "# Using polymorphism\n",
        "animals = [Dog(), Cat()]\n",
        "for animal in animals:\n",
        "    print(animal.speak())\n",
        "\n",
        "# Output:\n",
        "# Bark\n",
        "# Meow\n"
      ],
      "metadata": {
        "id": "KyoRQzj_TcMo"
      },
      "execution_count": null,
      "outputs": []
    },
    {
      "cell_type": "markdown",
      "source": [
        "15. What is an abstract class in Python ?\n",
        "    -  An abstract class in Python is a class that cannot be instantiated and must be subclassed. It contains abstract methods, which must be implemented by child classes.\n",
        "\n",
        "     -  Defined using the ABC (Abstract Base Class) module.\n",
        "     -  Used to enforce method implementation in subclasses.\n",
        "      \n",
        "     Example :"
      ],
      "metadata": {
        "id": "ZEw00Iq1Tg7a"
      }
    },
    {
      "cell_type": "code",
      "source": [
        "from abc import ABC, abstractmethod\n",
        "\n",
        "class Animal(ABC):  # Abstract class\n",
        "    @abstractmethod\n",
        "    def speak(self):\n",
        "        pass  # Must be implemented in subclasses\n",
        "\n",
        "class Dog(Animal):\n",
        "    def speak(self):\n",
        "        return \"Bark\"\n",
        "\n",
        "dog = Dog()\n",
        "print(dog.speak())  # Output: Bark\n"
      ],
      "metadata": {
        "id": "xz-ZCKPUUDt6"
      },
      "execution_count": null,
      "outputs": []
    },
    {
      "cell_type": "markdown",
      "source": [
        "16. What are the advantages of OOP ?\n",
        "    -  1. Code Reusability – Inheritance allows reusing existing code, reducing duplication.\n",
        "    - 2. Modularity – Code is organized into objects, making it easier to manage and modify.\n",
        "    - 3. Encapsulation – Protects data by restricting direct access and exposing only necessary details.\n",
        "    - 4. Polymorphism – Enables a single interface to work with multiple data types, increasing flexibility.\n",
        "    - 5. Abstraction – Hides complex implementation details, making code easier to use.\n",
        "    - 6. Scalability – OOP makes it easier to add new features without modifying existing code.\n",
        "    - 7. Maintainability – Well-structured and modular code is easier to debug, test, and update.\n",
        "17.  What is the difference between a class variable and an instance variable ?\n",
        "    - ### **Difference Between Class Variable and Instance Variable in Python**  \n",
        "\n",
        "| Feature          | **Class Variable** | **Instance Variable** |\n",
        "|-----------------|------------------|--------------------|\n",
        "| **Definition**  | Shared across all instances of a class. | Unique to each object (instance). |\n",
        "| **Declaration** | Defined inside the class but outside methods. | Defined inside the `__init__()` method. |\n",
        "| **Scope**       | Accessible by all objects of the class. | Accessible only by the specific object. |\n",
        "| **Modification** | Changing it affects all instances. | Changing it affects only that instance. |\n",
        "\n",
        "\n",
        "Example\n",
        "\n"
      ],
      "metadata": {
        "id": "xqR3xFeGUIv5"
      }
    },
    {
      "cell_type": "code",
      "source": [
        "class Car:\n",
        "    wheels = 4  # Class variable (shared)\n",
        "\n",
        "    def __init__(self, brand):\n",
        "        self.brand = brand  # Instance variable (unique per object)\n",
        "\n",
        "car1 = Car(\"Toyota\")\n",
        "car2 = Car(\"Honda\")\n",
        "\n",
        "car1.wheels = 6  # Modifies only for car1\n",
        "Car.wheels = 8  # Changes for all instances\n",
        "\n",
        "print(car1.wheels)  # Output: 6 (Modified for car1)\n",
        "print(car2.wheels)  # Output: 8 (Modified globally)\n",
        "print(Car.wheels)   # Output: 8 (Class-level change)\n"
      ],
      "metadata": {
        "id": "-DeUr55eVQ2p"
      },
      "execution_count": null,
      "outputs": []
    },
    {
      "cell_type": "markdown",
      "source": [
        "18.  What is multiple inheritance in Python ?\n",
        "    -  Multiple inheritance is when a class inherits from more than one parent class. This allows a child class to use attributes and methods from multiple sources.\n",
        "    \n",
        "    Syntax:\n",
        "     "
      ],
      "metadata": {
        "id": "ntDOlXj2Va_-"
      }
    },
    {
      "cell_type": "code",
      "source": [
        "class Parent1:\n",
        "    def method1(self):\n",
        "        return \"Method from Parent1\"\n",
        "\n",
        "class Parent2:\n",
        "    def method2(self):\n",
        "        return \"Method from Parent2\"\n",
        "\n",
        "class Child(Parent1, Parent2):  # Multiple inheritance\n",
        "    pass\n",
        "\n",
        "obj = Child()\n",
        "print(obj.method1())  # Output: Method from Parent1\n",
        "print(obj.method2())  # Output: Method from Parent2\n"
      ],
      "metadata": {
        "id": "Y6A0dag2Vxnz"
      },
      "execution_count": null,
      "outputs": []
    },
    {
      "cell_type": "markdown",
      "source": [
        "19.  Explain the purpose of ‘’__str__’ and ‘__repr__’ ‘ methods in Python .\n",
        "-  ### **`__str__` vs `__repr__` in Python**  \n",
        "\n",
        "Both **`__str__`** and **`__repr__`** are dunder (magic) methods used to define how an object is represented as a string.  \n",
        "\n",
        "| Method  | Purpose | When to Use | Return Type |\n",
        "|---------|---------|------------|-------------|\n",
        "| `__str__()`  | Returns a **human-readable** string representation of an object. | Used with `print()` or `str()`. | Informal, user-friendly output. |\n",
        "| `__repr__()` | Returns an **unambiguous** string representation (for debugging). | Used with `repr()` or interactive shell. | Official, developer-friendly output. |\n",
        "\n",
        "\n",
        "Example :"
      ],
      "metadata": {
        "id": "uvWsOA8lV2dX"
      }
    },
    {
      "cell_type": "code",
      "source": [
        "class Car:\n",
        "    def __init__(self, brand, model):\n",
        "        self.brand = brand\n",
        "        self.model = model\n",
        "\n",
        "    def __str__(self):\n",
        "        return f\"{self.brand} {self.model}\"  # User-friendly\n",
        "\n",
        "    def __repr__(self):\n",
        "        return f\"Car('{self.brand}', '{self.model}')\"  # Debugging\n",
        "\n",
        "car = Car(\"Toyota\", \"Corolla\")\n",
        "print(str(car))   # Output: Toyota Corolla\n",
        "print(repr(car))  # Output: Car('Toyota', 'Corolla')\n"
      ],
      "metadata": {
        "id": "R1mcaIcHWTBm"
      },
      "execution_count": null,
      "outputs": []
    },
    {
      "cell_type": "markdown",
      "source": [
        "20. What is the significance of the ‘super()’ function in Python ?\n",
        "    -  The super() function is used to call methods from a parent (superclass) in a child (subclass). It is mainly used in inheritance to avoid redundancy and ensure the proper method resolution order (MRO).\n",
        "\n",
        "    Example :"
      ],
      "metadata": {
        "id": "Pc8cfnzcWdQv"
      }
    },
    {
      "cell_type": "code",
      "source": [
        "class Parent:\n",
        "    def show(self):\n",
        "        return \"Method from Parent\"\n",
        "\n",
        "class Child(Parent):\n",
        "    def show(self):\n",
        "        return super().show() + \" and Child\"\n",
        "\n",
        "obj = Child()\n",
        "print(obj.show())  # Output: Method from Parent and Child\n"
      ],
      "metadata": {
        "id": "xalS_FfJWvEZ"
      },
      "execution_count": null,
      "outputs": []
    },
    {
      "cell_type": "markdown",
      "source": [
        "21. What is the significance of the __del__ method in Python ?  \n",
        "    -  he __del__ method is a destructor in Python, automatically called when an object is deleted or goes out of scope. It is used to clean up resources like closing files or releasing memory.\n",
        "\n",
        "    Example :"
      ],
      "metadata": {
        "id": "Viy6J_7lWya6"
      }
    },
    {
      "cell_type": "code",
      "source": [
        "class Example:\n",
        "    def __init__(self):\n",
        "        print(\"Object created\")\n",
        "\n",
        "    def __del__(self):\n",
        "        print(\"Object deleted\")\n",
        "\n",
        "obj = Example()  # Output: Object created\n",
        "del obj  # Output: Object deleted\n"
      ],
      "metadata": {
        "id": "OfY2-VlDXD5d"
      },
      "execution_count": null,
      "outputs": []
    },
    {
      "cell_type": "markdown",
      "source": [
        "22.  What is the difference between @staticmethod and @classmethod in Python ?\n",
        "    -  ### **Difference Between `@staticmethod` and `@classmethod` in Python**  \n",
        "\n",
        "| Feature          | **`@staticmethod`** | **`@classmethod`** |\n",
        "|-----------------|------------------|------------------|\n",
        "| **Accesses**    | No access to `self` (instance) or `cls` (class). | Works with `cls` (class itself). |\n",
        "| **Used for**    | Utility/helper methods unrelated to instance or class. | Methods that modify or use class attributes. |\n",
        "| **Parameters**  | Regular parameters (no `self` or `cls`). | First parameter must be `cls`. |\n",
        "| **Can modify class attributes?** | ❌ No | ✅ Yes |\n",
        "\n",
        "\n",
        "Example :"
      ],
      "metadata": {
        "id": "y0a3mLAZXGmm"
      }
    },
    {
      "cell_type": "code",
      "source": [
        "class Example:\n",
        "    class_variable = \"I am a class variable\"\n",
        "\n",
        "    @staticmethod\n",
        "    def static_method():\n",
        "        return \"Static method: No access to class or instance\"\n",
        "\n",
        "    @classmethod\n",
        "    def class_method(cls):\n",
        "        return f\"Class method: {cls.class_variable}\"\n",
        "\n",
        "print(Example.static_method())  # Output: Static method: No access to class or instance\n",
        "print(Example.class_method())   # Output: Class method: I am a class variable\n"
      ],
      "metadata": {
        "id": "9E5-xvGDXc48"
      },
      "execution_count": null,
      "outputs": []
    },
    {
      "cell_type": "markdown",
      "source": [
        "23.  How does polymorphism work in Python with inheritance ?\n",
        "     -  Polymorphism allows methods in different classes to have the same name but different behaviors. When used with inheritance, a child class can override a parent class method, enabling dynamic method resolution at runtime.\n",
        "\n",
        "     Example:\n",
        "     \n",
        "     Method Overriding in Inheritance"
      ],
      "metadata": {
        "id": "AP1s-WKXXqWb"
      }
    },
    {
      "cell_type": "code",
      "source": [
        "class Animal:\n",
        "    def speak(self):\n",
        "        return \"Animal makes a sound\"\n",
        "\n",
        "class Dog(Animal):\n",
        "    def speak(self):  # Overriding parent method\n",
        "        return \"Bark\"\n",
        "\n",
        "class Cat(Animal):\n",
        "    def speak(self):\n",
        "        return \"Meow\"\n",
        "\n",
        "# Polymorphism in action\n",
        "animals = [Dog(), Cat()]\n",
        "for animal in animals:\n",
        "    print(animal.speak())\n",
        "\n",
        "#Output\n",
        "#Bark\n",
        "#Meow\n"
      ],
      "metadata": {
        "id": "0st2jwcaX6-j"
      },
      "execution_count": null,
      "outputs": []
    },
    {
      "cell_type": "markdown",
      "source": [
        "24. What is method chaining in Python OOP ?\n",
        "    -  Method chaining allows multiple methods to be called on the same object in a single line by returning self from each method.\n",
        "\n",
        "    Example :\n"
      ],
      "metadata": {
        "id": "c8kQlEg5YGvS"
      }
    },
    {
      "cell_type": "code",
      "source": [
        "class Person:\n",
        "    def __init__(self, name):\n",
        "        self.name = name\n",
        "        self.age = 0\n",
        "\n",
        "    def set_age(self, age):\n",
        "        self.age = age\n",
        "        return self  # Returning self enables method chaining\n",
        "\n",
        "    def greet(self):\n",
        "        print(f\"Hi, I'm {self.name} and I'm {self.age} years old.\")\n",
        "        return self\n",
        "\n",
        "# Using method chaining\n",
        "person = Person(\"Alice\").set_age(25).greet()\n",
        "\n",
        "#output\n",
        "# Hi, I'm Alice and I'm 25 years old.\n"
      ],
      "metadata": {
        "id": "4Tmu_lfNYZEm"
      },
      "execution_count": null,
      "outputs": []
    },
    {
      "cell_type": "markdown",
      "source": [
        "25. What is the purpose of the __call__ method in Python ?\n",
        "    -  The __call__ method allows an instance of a class to be called like a function. This makes objects callable, meaning they can behave like functions while maintaining state.\n",
        "\n",
        "    Example :"
      ],
      "metadata": {
        "id": "GaWPSxRAYhjp"
      }
    },
    {
      "cell_type": "code",
      "source": [
        "class Multiplier:\n",
        "    def __init__(self, factor):\n",
        "        self.factor = factor\n",
        "\n",
        "    def __call__(self, number):\n",
        "        return number * self.factor  # Makes the object callable\n",
        "\n",
        "times3 = Multiplier(3)\n",
        "print(times3(5))  # Output: 15\n"
      ],
      "metadata": {
        "id": "8ljsJQ9iYxuy"
      },
      "execution_count": null,
      "outputs": []
    },
    {
      "cell_type": "markdown",
      "source": [
        "##Practical Questions"
      ],
      "metadata": {
        "id": "LhOZ9hIMY1on"
      }
    },
    {
      "cell_type": "markdown",
      "source": [
        "1.  Create a parent class Animal with a method speak() that prints a generic message. Create a child class Dog\n",
        "that overrides the speak() method to print \"Bark!\"."
      ],
      "metadata": {
        "id": "xIRmK7PWY81w"
      }
    },
    {
      "cell_type": "code",
      "source": [
        "class Animal:\n",
        "    def speak(self):\n",
        "        print(\"Animal makes a sound\")\n",
        "\n",
        "class Dog(Animal):\n",
        "    def speak(self):  # Overriding the parent method\n",
        "        print(\"Bark!\")\n",
        "\n",
        "# Creating objects\n",
        "animal = Animal()\n",
        "dog = Dog()\n",
        "\n",
        "# Calling the speak method\n",
        "animal.speak()  # Output: Animal makes a sound\n",
        "dog.speak()     # Output: Bark!\n"
      ],
      "metadata": {
        "id": "I0z2jcMEZBju"
      },
      "execution_count": null,
      "outputs": []
    },
    {
      "cell_type": "markdown",
      "source": [
        "2. Write a program to create an abstract class Shape with a method area(). Derive classes Circle and Rectangle\n",
        "from it and implement the area() method in both.\n",
        "\n",
        "\n"
      ],
      "metadata": {
        "id": "8wFRABjrZI2h"
      }
    },
    {
      "cell_type": "code",
      "source": [
        "from abc import ABC, abstractmethod\n",
        "\n",
        "# Abstract class\n",
        "class Shape(ABC):\n",
        "    @abstractmethod\n",
        "    def area(self):\n",
        "        pass  # Must be implemented in child classes\n",
        "\n",
        "# Derived class for Circle\n",
        "class Circle(Shape):\n",
        "    def __init__(self, radius):\n",
        "        self.radius = radius\n",
        "\n",
        "    def area(self):\n",
        "        return 3.14 * self.radius * self.radius  # πr²\n",
        "\n",
        "# Derived class for Rectangle\n",
        "class Rectangle(Shape):\n",
        "    def __init__(self, length, width):\n",
        "        self.length = length\n",
        "        self.width = width\n",
        "\n",
        "    def area(self):\n",
        "        return self.length * self.width  # l × w\n",
        "\n",
        "# Creating objects\n",
        "circle = Circle(5)\n",
        "rectangle = Rectangle(4, 6)\n",
        "\n",
        "# Calling area method\n",
        "print(\"Circle Area:\", circle.area())        # Output: 78.5\n",
        "print(\"Rectangle Area:\", rectangle.area())  # Output: 24\n"
      ],
      "metadata": {
        "id": "7nK67ZVNZN6H"
      },
      "execution_count": null,
      "outputs": []
    },
    {
      "cell_type": "markdown",
      "source": [
        "3.  Implement a multi-level inheritance scenario where a class Vehicle has an attribute type. Derive a class Car\n",
        "and further derive a class ElectricCar that adds a battery attribute."
      ],
      "metadata": {
        "id": "dYAiilbjZUG4"
      }
    },
    {
      "cell_type": "code",
      "source": [
        "# Base class\n",
        "class Vehicle:\n",
        "    def __init__(self, type):\n",
        "        self.type = type\n",
        "\n",
        "# Derived class from Vehicle\n",
        "class Car(Vehicle):\n",
        "    def __init__(self, type, brand):\n",
        "        super().__init__(type)  # Calling the parent constructor\n",
        "        self.brand = brand\n",
        "\n",
        "# Further derived class from Car\n",
        "class ElectricCar(Car):\n",
        "    def __init__(self, type, brand, battery):\n",
        "        super().__init__(type, brand)  # Calling the Car constructor\n",
        "        self.battery = battery\n",
        "\n",
        "    def display_info(self):\n",
        "        print(f\"Type: {self.type}, Brand: {self.brand}, Battery: {self.battery} kWh\")\n",
        "\n",
        "# Creating an ElectricCar object\n",
        "tesla = ElectricCar(\"Four-wheeler\", \"Tesla\", 75)\n",
        "tesla.display_info()\n",
        "\n",
        "# Output:\n",
        "# Type: Four-wheeler, Brand: Tesla, Battery: 75 kWh\n"
      ],
      "metadata": {
        "id": "oSqVIV60ZYNx"
      },
      "execution_count": null,
      "outputs": []
    },
    {
      "cell_type": "markdown",
      "source": [
        "4.  Demonstrate polymorphism by creating a base class Bird with a method fly(). Create two derived classes\n",
        "Sparrow and Penguin that override the fly() method."
      ],
      "metadata": {
        "id": "UyOxYf-lZjpK"
      }
    },
    {
      "cell_type": "code",
      "source": [
        "# Base class\n",
        "class Bird:\n",
        "    def fly(self):\n",
        "        print(\"Some birds can fly.\")\n",
        "\n",
        "# Derived class - Sparrow (Can fly)\n",
        "class Sparrow(Bird):\n",
        "    def fly(self):\n",
        "        print(\"Sparrow flies high in the sky.\")\n",
        "\n",
        "# Derived class - Penguin (Cannot fly)\n",
        "class Penguin(Bird):\n",
        "    def fly(self):\n",
        "        print(\"Penguins cannot fly, they swim instead.\")\n",
        "\n",
        "# Function demonstrating polymorphism\n",
        "def bird_flight(bird):\n",
        "    bird.fly()\n",
        "\n",
        "# Creating objects\n",
        "sparrow = Sparrow()\n",
        "penguin = Penguin()\n",
        "\n",
        "# Calling fly() method using polymorphism\n",
        "bird_flight(sparrow)  # Output: Sparrow flies high in the sky.\n",
        "bird_flight(penguin)  # Output: Penguins cannot fly, they swim instead.\n"
      ],
      "metadata": {
        "id": "Q-YcBx6sZoBB"
      },
      "execution_count": null,
      "outputs": []
    },
    {
      "cell_type": "markdown",
      "source": [
        "5. Write a program to demonstrate encapsulation by creating a class BankAccount with private attributes\n",
        "balance and methods to deposit, withdraw, and check balance."
      ],
      "metadata": {
        "id": "Vg5spl8PZwlT"
      }
    },
    {
      "cell_type": "code",
      "source": [
        "class BankAccount:\n",
        "    def __init__(self, account_holder, balance=0):\n",
        "        self.account_holder = account_holder\n",
        "        self.__balance = balance  # Private attribute\n",
        "\n",
        "    def deposit(self, amount):\n",
        "        if amount > 0:\n",
        "            self.__balance += amount\n",
        "            print(f\"Deposited ${amount}. New balance: ${self.__balance}\")\n",
        "        else:\n",
        "            print(\"Deposit amount must be positive.\")\n",
        "\n",
        "    def withdraw(self, amount):\n",
        "        if 0 < amount <= self.__balance:\n",
        "            self.__balance -= amount\n",
        "            print(f\"Withdrawn ${amount}. New balance: ${self.__balance}\")\n",
        "        else:\n",
        "            print(\"Insufficient balance or invalid amount.\")\n",
        "\n",
        "    def check_balance(self):\n",
        "        print(f\"Account Balance: ${self.__balance}\")\n",
        "\n",
        "# Creating an account\n",
        "account = BankAccount(\"John Doe\", 500)\n",
        "\n",
        "# Performing transactions\n",
        "account.deposit(200)       # Deposited $200. New balance: $700\n",
        "account.withdraw(100)      # Withdrawn $100. New balance: $600\n",
        "account.check_balance()    # Account Balance: $600\n",
        "\n",
        "# Trying to access private attribute (will raise an error)\n",
        "# print(account.__balance)  # AttributeError: 'BankAccount' object has no attribute '__balance'\n"
      ],
      "metadata": {
        "id": "p2qggbdoZ2ue"
      },
      "execution_count": null,
      "outputs": []
    },
    {
      "cell_type": "markdown",
      "source": [
        "6. Demonstrate runtime polymorphism using a method play() in a base class Instrument. Derive classes Guitar\n",
        "and Piano that implement their own version of play()"
      ],
      "metadata": {
        "id": "tBbH_7QpZ-QL"
      }
    },
    {
      "cell_type": "code",
      "source": [
        "# Base class\n",
        "class Instrument:\n",
        "    def play(self):\n",
        "        print(\"Instrument is playing a sound.\")\n",
        "\n",
        "# Derived class - Guitar\n",
        "class Guitar(Instrument):\n",
        "    def play(self):\n",
        "        print(\"Guitar is playing a melody.\")\n",
        "\n",
        "# Derived class - Piano\n",
        "class Piano(Instrument):\n",
        "    def play(self):\n",
        "        print(\"Piano is playing a tune.\")\n",
        "\n",
        "# Function demonstrating polymorphism\n",
        "def play_instrument(instrument):\n",
        "    instrument.play()\n",
        "\n",
        "# Creating objects\n",
        "guitar = Guitar()\n",
        "piano = Piano()\n",
        "\n",
        "# Calling play() method using polymorphism\n",
        "play_instrument(guitar)  # Output: Guitar is playing a melody.\n",
        "play_instrument(piano)   # Output: Piano is playing a tune.\n"
      ],
      "metadata": {
        "id": "hEIfobBYaDZR"
      },
      "execution_count": null,
      "outputs": []
    },
    {
      "cell_type": "markdown",
      "source": [
        "7. Create a class MathOperations with a class method add_numbers() to add two numbers and a static\n",
        "method subtract_numbers() to subtract two numbers.\n",
        "\n",
        "\n"
      ],
      "metadata": {
        "id": "Gy2rizbcaLio"
      }
    },
    {
      "cell_type": "code",
      "source": [
        "class MathOperations:\n",
        "    @classmethod\n",
        "    def add_numbers(cls, a, b):\n",
        "        return a + b  # Class method (can access cls if needed)\n",
        "\n",
        "    @staticmethod\n",
        "    def subtract_numbers(a, b):\n",
        "        return a - b  # Static method (no access to class attributes)\n",
        "\n",
        "# Using class method\n",
        "sum_result = MathOperations.add_numbers(10, 5)\n",
        "print(\"Sum:\", sum_result)  # Output: Sum: 15\n",
        "\n",
        "# Using static method\n",
        "difference_result = MathOperations.subtract_numbers(10, 5)\n",
        "print(\"Difference:\", difference_result)  # Output: Difference: 5\n"
      ],
      "metadata": {
        "id": "xaiQBaePaPlB"
      },
      "execution_count": null,
      "outputs": []
    },
    {
      "cell_type": "markdown",
      "source": [
        "8.  Implement a class Person with a class method to count the total number of persons created ."
      ],
      "metadata": {
        "id": "tvpxZWzWaWvU"
      }
    },
    {
      "cell_type": "code",
      "source": [
        "class Person:\n",
        "    total_persons = 0  # Class variable to track count\n",
        "\n",
        "    def __init__(self, name):\n",
        "        self.name = name\n",
        "        Person.total_persons += 1  # Increment count when a new person is created\n",
        "\n",
        "    @classmethod\n",
        "    def get_total_persons(cls):\n",
        "        return f\"Total persons created: {cls.total_persons}\"\n",
        "\n",
        "# Creating Person objects\n",
        "p1 = Person(\"Alice\")\n",
        "p2 = Person(\"Bob\")\n",
        "p3 = Person(\"Charlie\")\n",
        "\n",
        "# Checking total persons using class method\n",
        "print(Person.get_total_persons())  # Output: Total persons created: 3\n"
      ],
      "metadata": {
        "id": "o-_WE8AzageL"
      },
      "execution_count": null,
      "outputs": []
    },
    {
      "cell_type": "markdown",
      "source": [
        "9.  Write a class Fraction with attributes numerator and denominator. Override the str method to display the\n",
        "fraction as \"numerator/denominator\"."
      ],
      "metadata": {
        "id": "x__Fv2ymaoI8"
      }
    },
    {
      "cell_type": "code",
      "source": [
        "class Fraction:\n",
        "    def __init__(self, numerator, denominator):\n",
        "        self.numerator = numerator\n",
        "        self.denominator = denominator\n",
        "\n",
        "    def __str__(self):\n",
        "        return f\"{self.numerator}/{self.denominator}\"  # Display fraction format\n",
        "\n",
        "# Creating Fraction objects\n",
        "fraction1 = Fraction(3, 4)\n",
        "fraction2 = Fraction(5, 8)\n",
        "\n",
        "# Printing fractions\n",
        "print(fraction1)  # Output: 3/4\n",
        "print(fraction2)  # Output: 5/8\n"
      ],
      "metadata": {
        "id": "zXSRjt4TasSn"
      },
      "execution_count": null,
      "outputs": []
    },
    {
      "cell_type": "markdown",
      "source": [
        "10.  Demonstrate operator overloading by creating a class Vector and overriding the add method to add two\n",
        "vectors ."
      ],
      "metadata": {
        "id": "rnR0ddsba5am"
      }
    },
    {
      "cell_type": "code",
      "source": [
        "class Vector:\n",
        "    def __init__(self, x, y):\n",
        "        self.x = x\n",
        "        self.y = y\n",
        "\n",
        "    def __add__(self, other):\n",
        "        return Vector(self.x + other.x, self.y + other.y)  # Adding corresponding components\n",
        "\n",
        "    def __str__(self):\n",
        "        return f\"({self.x}, {self.y})\"  # Display vector as (x, y)\n",
        "\n",
        "# Creating Vector objects\n",
        "v1 = Vector(3, 4)\n",
        "v2 = Vector(1, 2)\n",
        "\n",
        "# Adding vectors using the overloaded '+' operator\n",
        "result = v1 + v2\n",
        "\n",
        "# Printing the result\n",
        "print(\"Vector 1:\", v1)      # Output: (3, 4)\n",
        "print(\"Vector 2:\", v2)      # Output: (1, 2)\n",
        "print(\"Sum:\", result)       # Output: (4, 6)\n"
      ],
      "metadata": {
        "id": "uty4mpLYa-KS"
      },
      "execution_count": null,
      "outputs": []
    },
    {
      "cell_type": "markdown",
      "source": [
        "11. Create a class Person with attributes name and age. Add a method greet() that prints \"Hello, my name is\n",
        "{name} and I am {age} years old.\""
      ],
      "metadata": {
        "id": "-YcZ7p6sbF_K"
      }
    },
    {
      "cell_type": "code",
      "source": [
        "class Person:\n",
        "    def __init__(self, name, age):\n",
        "        self.name = name\n",
        "        self.age = age\n",
        "\n",
        "    def greet(self):\n",
        "        print(f\"Hello, my name is {self.name} and I am {self.age} years old.\")\n",
        "\n",
        "# Creating a Person object\n",
        "person1 = Person(\"Alice\", 25)\n",
        "\n",
        "# Calling the greet method\n",
        "person1.greet()\n",
        "# Output: Hello, my name is Alice and I am 25 years old.\n"
      ],
      "metadata": {
        "id": "4eaZh2X7bLb8"
      },
      "execution_count": null,
      "outputs": []
    },
    {
      "cell_type": "markdown",
      "source": [
        "12.  Implement a class Student with attributes name and grades. Create a method average_grade() to compute\n",
        "the average of the grades."
      ],
      "metadata": {
        "id": "qrxrzzQ4bSh0"
      }
    },
    {
      "cell_type": "code",
      "source": [
        "class Student:\n",
        "    def __init__(self, name, grades):\n",
        "        self.name = name\n",
        "        self.grades = grades  # List of grades\n",
        "\n",
        "    def average_grade(self):\n",
        "        return sum(self.grades) / len(self.grades) if self.grades else 0  # Avoid division by zero\n",
        "\n",
        "# Creating a Student object\n",
        "student1 = Student(\"Alice\", [85, 90, 78, 92])\n",
        "\n",
        "# Calculating and displaying the average grade\n",
        "print(f\"{student1.name}'s Average Grade: {student1.average_grade():.2f}\")\n",
        "# Output: Alice's Average Grade: 86.25\n"
      ],
      "metadata": {
        "id": "W4XNq2U0bXOT"
      },
      "execution_count": null,
      "outputs": []
    },
    {
      "cell_type": "markdown",
      "source": [
        "13.  Create a class Rectangle with methods set_dimensions() to set the dimensions and area() to calculate the\n",
        "area."
      ],
      "metadata": {
        "id": "lXNi6CzGbcwU"
      }
    },
    {
      "cell_type": "code",
      "source": [
        "class Rectangle:\n",
        "    def __init__(self):\n",
        "        self.length = 0\n",
        "        self.width = 0\n",
        "\n",
        "    def set_dimensions(self, length, width):\n",
        "        self.length = length\n",
        "        self.width = width\n",
        "\n",
        "    def area(self):\n",
        "        return self.length * self.width\n",
        "\n",
        "# Creating a Rectangle objec\n"
      ],
      "metadata": {
        "id": "uT0dYLvvbgfA"
      },
      "execution_count": null,
      "outputs": []
    },
    {
      "cell_type": "markdown",
      "source": [
        "14.  Create a class Employee with a method calculate_salary() that computes the salary based on hours worked\n",
        "and hourly rate. Create a derived class Manager that adds a bonus to the salary."
      ],
      "metadata": {
        "id": "ffPQ4Inqbp1V"
      }
    },
    {
      "cell_type": "code",
      "source": [
        "# Base class\n",
        "class Employee:\n",
        "    def __init__(self, name, hourly_rate):\n",
        "        self.name = name\n",
        "        self.hourly_rate = hourly_rate\n",
        "\n",
        "    def calculate_salary(self, hours_worked):\n",
        "        return self.hourly_rate * hours_worked  # Basic salary calculation\n",
        "\n",
        "# Derived class\n",
        "class Manager(Employee):\n",
        "    def __init__(self, name, hourly_rate, bonus):\n",
        "        super().__init__(name, hourly_rate)\n",
        "        self.bonus = bonus  # Additional bonus for managers\n",
        "\n",
        "    def calculate_salary(self, hours_worked):\n",
        "        base_salary = super().calculate_salary(hours_worked)\n",
        "        return base_salary + self.bonus  # Salary with bonus\n",
        "\n",
        "# Creating Employee and Manager objects\n",
        "emp = Employee(\"Alice\", 20)\n",
        "mgr = Manager(\"Bob\", 30, 500)\n",
        "\n",
        "# Calculating salaries\n",
        "print(f\"{emp.name}'s Salary: ${emp.calculate_salary(40)}\")\n",
        "# Output: Alice's Salary: $800\n",
        "\n",
        "print(f\"{mgr.name}'s Salary: ${mgr.calculate_salary(40)}\")\n",
        "# Output: Bob's Salary: $1700 (Base: $1200 + Bonus: $500)\n"
      ],
      "metadata": {
        "id": "46ztTrhCbrZb"
      },
      "execution_count": null,
      "outputs": []
    },
    {
      "cell_type": "markdown",
      "source": [
        "15. Create a class Product with attributes name, price, and quantity. Implement a method total_price() that\n",
        "calculates the total price of the product."
      ],
      "metadata": {
        "id": "xOGZ0pkibzus"
      }
    },
    {
      "cell_type": "code",
      "source": [
        "class Product:\n",
        "    def __init__(self, name, price, quantity):\n",
        "        self.name = name\n",
        "        self.price = price\n",
        "        self.quantity = quantity\n",
        "\n",
        "    def total_price(self):\n",
        "        return self.price * self.quantity  # Calculate total cost\n",
        "\n",
        "# Creating a Product object\n",
        "product1 = Product(\"Laptop\", 800, 3)\n",
        "\n",
        "# Calculating and displaying the total price\n",
        "print(f\"Total price for {product1.quantity} {product1.name}(s): ${product1.total_price()}\")\n",
        "# Output: Total price for 3 Laptop(s): $2400\n"
      ],
      "metadata": {
        "id": "slxbchLdb3Hw"
      },
      "execution_count": null,
      "outputs": []
    },
    {
      "cell_type": "markdown",
      "source": [
        "16.  Create a class Animal with an abstract method sound(). Create two derived classes Cow and Sheep that\n",
        "implement the sound() method."
      ],
      "metadata": {
        "id": "nKmtqcQ6cCBe"
      }
    },
    {
      "cell_type": "code",
      "source": [
        "from abc import ABC, abstractmethod\n",
        "\n",
        "# Abstract base class\n",
        "class Animal(ABC):\n",
        "    @abstractmethod\n",
        "    def sound(self):\n",
        "        pass  # Abstract method (must be implemented by subclasses)\n",
        "\n",
        "# Derived class - Cow\n",
        "class Cow(Animal):\n",
        "    def sound(self):\n",
        "        return \"Moo!\"\n",
        "\n",
        "# Derived class - Sheep\n",
        "class Sheep(Animal):\n",
        "    def sound(self):\n",
        "        return \"Baa!\"\n",
        "\n",
        "# Creating objects\n",
        "cow = Cow()\n",
        "sheep = Sheep()\n",
        "\n",
        "# Calling the sound method\n",
        "print(f\"Cow: {cow.sound()}\")   # Output: Cow: Moo!\n",
        "print(f\"Sheep: {sheep.sound()}\") # Output: Sheep: Baa!\n"
      ],
      "metadata": {
        "id": "sA2mUKyccHDO"
      },
      "execution_count": null,
      "outputs": []
    },
    {
      "cell_type": "markdown",
      "source": [
        "17. Create a class Book with attributes title, author, and year_published. Add a method get_book_info() that\n",
        "returns a formatted string with the book's details.\n",
        "\n",
        "\n"
      ],
      "metadata": {
        "id": "qsAteSvDcNay"
      }
    },
    {
      "cell_type": "code",
      "source": [
        "class Book:\n",
        "    def __init__(self, title, author, year_published):\n",
        "        self.title = title\n",
        "        self.author = author\n",
        "        self.year_published = year_published\n",
        "\n",
        "    def get_book_info(self):\n",
        "        return f\"'{self.title}' by {self.author}, published in {self.year_published}.\"\n",
        "\n",
        "# Creating a Book object\n",
        "book1 = Book(\"To Kill a Mockingbird\", \"Harper Lee\", 1960)\n",
        "\n",
        "# Displaying book information\n",
        "print(book1.get_book_info())\n",
        "# Output: 'To Kill a Mockingbird' by Harper Lee, published in 1960.\n"
      ],
      "metadata": {
        "id": "zSNa194BcQsA"
      },
      "execution_count": null,
      "outputs": []
    },
    {
      "cell_type": "markdown",
      "source": [
        "18.  Create a class House with attributes address and price. Create a derived class Mansion that adds an\n",
        "attribute number_of_rooms"
      ],
      "metadata": {
        "id": "w5OmKicFcWmE"
      }
    },
    {
      "cell_type": "code",
      "source": [
        "# Base class\n",
        "class House:\n",
        "    def __init__(self, address, price):\n",
        "        self.address = address\n",
        "        self.price = price\n",
        "\n",
        "    def get_info(self):\n",
        "        return f\"Address: {self.address}, Price: ${self.price}\"\n",
        "\n",
        "# Derived class\n",
        "class Mansion(House):\n",
        "    def __init__(self, address, price, number_of_rooms):\n",
        "        super().__init__(address, price)  # Call base class constructor\n",
        "        self.number_of_rooms = number_of_rooms\n",
        "\n",
        "    def get_info(self):\n",
        "        return f\"{super().get_info()}, Rooms: {self.number_of_rooms}\"\n",
        "\n",
        "# Creating House and Mansion objects\n",
        "house1 = House(\"123 Main St\", 250000)\n",
        "mansion1 = Mansion(\"456 Luxury Ave\", 5000000, 15)\n",
        "\n",
        "# Displaying details\n",
        "print(house1.get_info())\n",
        "# Output: Address: 123 Main St, Price: $250000\n",
        "\n",
        "print(mansion1.get_info())\n",
        "# Output: Address: 456 Luxury Ave, Price: $5000000, Rooms: 15\n"
      ],
      "metadata": {
        "id": "1syJkHSBcZrP"
      },
      "execution_count": null,
      "outputs": []
    }
  ]
}